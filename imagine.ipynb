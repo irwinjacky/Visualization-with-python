{
 "cells": [
  {
   "cell_type": "code",
   "execution_count": 71,
   "metadata": {},
   "outputs": [
    {
     "name": "stdout",
     "output_type": "stream",
     "text": [
      "Visualization with python\n",
      "Index(['class', 'age', 'menopause', 'tumor_size', 'inv_nodes', 'node_caps',\n",
      "       'deg_malig', 'breast', 'breast_quad', 'irradiat'],\n",
      "      dtype='object')\n",
      "                    class    age menopause tumor_size inv_nodes node_caps  \\\n",
      "0    no-recurrence-events  40-49   premeno      20-24       0-2        no   \n",
      "1    no-recurrence-events  40-49   premeno      20-24       0-2        no   \n",
      "2    no-recurrence-events  60-69      ge40      15-19       0-2        no   \n",
      "3    no-recurrence-events  40-49   premeno        0-4       0-2        no   \n",
      "4    no-recurrence-events  60-69      ge40      15-19       0-2        no   \n",
      "..                    ...    ...       ...        ...       ...       ...   \n",
      "280     recurrence-events  30-39   premeno      30-34       0-2        no   \n",
      "281     recurrence-events  30-39   premeno      20-24       0-2        no   \n",
      "282     recurrence-events  60-69      ge40      20-24       0-2        no   \n",
      "283     recurrence-events  40-49      ge40      30-34       3-5        no   \n",
      "284     recurrence-events  50-59      ge40      30-34       3-5        no   \n",
      "\n",
      "     deg_malig breast breast_quad irradiat  \n",
      "0            2  right    right_up       no  \n",
      "1            2   left    left_low       no  \n",
      "2            2  right     left_up       no  \n",
      "3            2  right   right_low       no  \n",
      "4            2   left    left_low       no  \n",
      "..         ...    ...         ...      ...  \n",
      "280          2   left     left_up       no  \n",
      "281          3   left     left_up      yes  \n",
      "282          1  right     left_up       no  \n",
      "283          3   left    left_low       no  \n",
      "284          3   left    left_low       no  \n",
      "\n",
      "[285 rows x 10 columns]\n"
     ]
    }
   ],
   "source": [
    "print('Visualization with python')\n",
    "import matplotlib.pyplot as plt\n",
    "import pandas as pd\n",
    "import numpy as np\n",
    "#importing data\n",
    "data = pd.read_csv('breast-cancer.data')\n",
    "data.columns = ['class', 'age', 'menopause', 'tumor_size', 'inv_nodes', 'node_caps', 'deg_malig', 'breast', 'breast_quad', 'irradiat']\n",
    "print(data.columns)\n",
    "print(data)"
   ]
  },
  {
   "cell_type": "code",
   "execution_count": 81,
   "metadata": {},
   "outputs": [
    {
     "name": "stderr",
     "output_type": "stream",
     "text": [
      "/var/folders/1j/ymsl58yn5mn_yd10wjd64tx40000gn/T/ipykernel_970/220993731.py:2: FutureWarning: The default value of numeric_only in DataFrameGroupBy.sum is deprecated. In a future version, numeric_only will default to False. Either specify numeric_only or select only columns which should be valid for the function.\n",
      "  scatter_data = data.groupby('class').sum()\n"
     ]
    },
    {
     "data": {
      "image/png": "[encoded data removed]",
      "text/plain": [
       "<Figure size 640x480 with 1 Axes>"
      ]
     },
     "metadata": {},
     "output_type": "display_data"
    }
   ],
   "source": [
    "#group data want to show in pie chart\n",
    "pi_data = data.groupby('class').sum()\n",
    "y_one = pi_data.values.flatten()\n",
    "\n",
    "labels_one = pi_data.index\n",
    "\n",
    "\n",
    "plt.pie(y_one, labels = labels_one)\n",
    "plt.legend(title = 'Class')\n",
    "plt.show()"
   ]
  },
  {
   "cell_type": "code",
   "execution_count": 83,
   "metadata": {},
   "outputs": [
    {
     "name": "stdout",
     "output_type": "stream",
     "text": [
      "       class  menopause  tumor_size  inv_nodes  node_caps  deg_malig  breast  \\\n",
      "age                                                                            \n",
      "20-29      1          1           1          1          1          1       1   \n",
      "30-39     35         35          35         35         35         35      35   \n",
      "40-49     90         90          90         90         90         90      90   \n",
      "50-59     96         96          96         96         96         96      96   \n",
      "60-69     57         57          57         57         57         57      57   \n",
      "70-79      6          6           6          6          6          6       6   \n",
      "\n",
      "       breast_quad  irradiat  \n",
      "age                           \n",
      "20-29            1         1  \n",
      "30-39           35        35  \n",
      "40-49           90        90  \n",
      "50-59           96        96  \n",
      "60-69           57        57  \n",
      "70-79            6         6  \n"
     ]
    }
   ],
   "source": [
    "scat_dat = data.groupby('age').count()\n",
    "print(scat_dat)"
   ]
  },
  {
   "cell_type": "code",
   "execution_count": null,
   "metadata": {},
   "outputs": [],
   "source": []
  }
 ],
 "metadata": {
  "kernelspec": {
   "display_name": "Python 3.10.6 64-bit",
   "language": "python",
   "name": "python3"
  },
  "language_info": {
   "codemirror_mode": {
    "name": "ipython",
    "version": 3
   },
   "file_extension": ".py",
   "mimetype": "text/x-python",
   "name": "python",
   "nbconvert_exporter": "python",
   "pygments_lexer": "ipython3",
   "version": "3.10.6"
  },
  "orig_nbformat": 4,
  "vscode": {
   "interpreter": {
    "hash": "aee8b7b246df8f9039afb4144a1f6fd8d2ca17a180786b69acc140d282b71a49"
   }
  }
 },
 "nbformat": 4,
 "nbformat_minor": 2
}
